{
 "cells": [
  {
   "cell_type": "code",
   "execution_count": 1,
   "id": "56eac900",
   "metadata": {},
   "outputs": [
    {
     "name": "stdout",
     "output_type": "stream",
     "text": [
      "Requirement already satisfied: docx2txt in /opt/anaconda3/lib/python3.9/site-packages (0.8)\n",
      "Note: you may need to restart the kernel to use updated packages.\n"
     ]
    }
   ],
   "source": [
    "pip install docx2txt\n"
   ]
  },
  {
   "cell_type": "code",
   "execution_count": 2,
   "id": "b6b709d2",
   "metadata": {},
   "outputs": [],
   "source": [
    "import docx2txt\n",
    "import warnings\n",
    "warnings.filterwarnings('ignore')\n"
   ]
  },
  {
   "cell_type": "code",
   "execution_count": 3,
   "id": "c18111cc",
   "metadata": {},
   "outputs": [],
   "source": [
    "# load the data\n",
    "resume = docx2txt.process('python-sample-resume.docx')\n",
    "job = docx2txt.process('python-job-description.docx')"
   ]
  },
  {
   "cell_type": "code",
   "execution_count": 4,
   "id": "a6e3eae8",
   "metadata": {},
   "outputs": [
    {
     "data": {
      "text/plain": [
       "'Loren Brekke \\n\\n9873 Ignacio Corners Boston \\n\\nMA \\n\\nPhone +1 (555) 570 0033 \\n\\n\\n\\nExperience \\n\\nHouston, TX \\n\\nPython Applications Developer \\n\\n10/2015 – present \\n\\n\\tHelp set development standards in areas of best practices, code quality, test coverage, monitoring, logging, exception management, and others\\n\\n\\tBecome proficient in Python, and the Athena platform’s NoSql OO database, graph-oriented development model and developer toolset\\n\\n\\tPerform unit testing and system integration testing of the newly developed functionality\\n\\n\\tCreate technical design recommendations for developing and integrating programs per written specifications\\n\\n\\tConduct code reviews on components and applications to ensure adherence to the development standards and best practices\\n\\n\\tImprove SDLC\\n\\n\\tIntegrate various systems to improve efficiency\\n\\nLos Angeles, CA \\n\\nPython Application Developer \\n\\n02/2013 – 08/2015 \\n\\n\\tExecute change management activities supporting production deployment to Developers, Quality Control Analysts, and Environment Management personnel\\n\\n\\tKnowledge of software development life cycle and agile development practices\\n\\n\\tStrong knowledge of Spring frameworks and leveraging distributed data caching frameworks\\n\\n\\tProvide guidance and oversight to development teams across Capital technology\\n\\n\\tWorking with production support teams to ensure smooth transition of software developed\\n\\n\\tDevelop code for intermediate to complex modules, following documentation and development standards\\n\\n\\tWork with the development team to facilitate the Build effort and to ensure successful end-to-End integration / testing\\n\\nChicago, IL \\n\\nPython \\n\\n12/2005 – 09/2012 \\n\\n\\tWork with production support teams to ensure smooth transition of software developed\\n\\n\\tWork in an environment which encourages and promotes personal development\\n\\n\\tProvide design recommendations, developing and integrating programs per high level specifications\\n\\n\\tLiaise with other teams and providers\\n\\n\\tBe an active part of a larger internal open source community of developers at Hearst\\n\\n\\tDeveloping a world-class, machine learning-driven recommendation and personalization system to match our users with jobs\\n\\n\\tUnderstand the project scope, identify activities/ tasks, task level estimates, schedule, dependencies, risks and provide inputs to Module Lead for review\\n\\nEducation \\n\\nBachelor’s Degree in Computer Science \\n\\nKent State University \\n\\nSkills \\n\\n\\tFront-office/risk management business knowledge as well as Knowledge of financial instrument features and trade processing would be a definite \\n\\n\\tStrong analytical ability \\n\\n\\tAble to react quickly and perform well under stress and high demand \\n\\n\\tWorking Excel knowledge including VBA, pivot tables, formulas \\n\\n\\tProven strong experience with databases ( columnar, nosql and RDMS ) and good SQL skills \\n\\n\\tWillingness to take ownership of tasks and the ability to work on their own initiative while being a strong team player \\n\\n\\tExcellent verbal and written communication skills, able to communicate accurately, concisely and with tact and diplomacy when appropriate \\n\\n\\tDevelop a good understanding of End to End business processes and the associated technical blocks \\n\\n\\tEquities business knowledge is an advantage but other relevant experience in other business areas is welcomed \\n\\n\\tThe ability to work under pressure within agreed timelines and to support multiple tasks in parallel'"
      ]
     },
     "execution_count": 4,
     "metadata": {},
     "output_type": "execute_result"
    }
   ],
   "source": [
    "# printing the resume\n",
    "resume"
   ]
  },
  {
   "cell_type": "code",
   "execution_count": 5,
   "id": "a26dfd84",
   "metadata": {},
   "outputs": [
    {
     "data": {
      "text/plain": [
       "'Python Developer responsibilities include:\\n\\n\\tWriting effective, scalable code \\n\\n\\tDeveloping back-end components to improve responsiveness and overall performance \\n\\n\\tIntegrating user-facing elements into applications \\n\\nJob brief\\n\\nWe are looking for a Python Developer to join our engineering team and help us develop and maintain various software products.\\n\\nPython Developer responsibilities include writing and testing code, debugging programs and integrating applications with third-party web services. To be successful in this role, you should have experience using server-side logic and work well in a team.\\n\\nUltimately, you’ll build highly responsive web applications that align with our business needs.\\n\\nResponsibilities\\n\\n\\tWrite effective, scalable code \\n\\n\\tDevelop back-end components to improve responsiveness and overall performance \\n\\n\\tIntegrate user-facing elements into applications \\n\\n\\tTest and debug programs \\n\\n\\tImprove functionality of existing systems \\n\\n\\tImplement security and data protection solutions \\n\\n\\tAssess and prioritize feature requests \\n\\n\\tCoordinate with internal teams to understand user requirements and provide technical solutions \\n\\nRequirements\\n\\n\\tWork experience as a Python Developer \\n\\n\\tExpertise in at least one popular Python framework (like Django, Flask or Pyramid) \\n\\n\\tKnowledge of object-relational mapping (ORM) \\n\\n\\tFamiliarity with front-end technologies (like JavaScript and HTML5) \\n\\n\\tTeam spirit \\n\\n\\tGood problem-solving skills \\n\\n\\tBSc in Computer Science, Engineering or relevant field'"
      ]
     },
     "execution_count": 5,
     "metadata": {},
     "output_type": "execute_result"
    }
   ],
   "source": [
    "#print the job description\n",
    "job\n"
   ]
  },
  {
   "cell_type": "code",
   "execution_count": 6,
   "id": "10b58d92",
   "metadata": {},
   "outputs": [],
   "source": [
    "# a list of text\n",
    "\n",
    "text = [resume,job]\n"
   ]
  },
  {
   "cell_type": "code",
   "execution_count": 7,
   "id": "c341ad2a",
   "metadata": {},
   "outputs": [],
   "source": [
    "from sklearn.feature_extraction.text import CountVectorizer\n",
    "\n",
    "cv = CountVectorizer()\n",
    "count_matrix = cv.fit_transform(text)"
   ]
  },
  {
   "cell_type": "code",
   "execution_count": 8,
   "id": "8adacc97",
   "metadata": {},
   "outputs": [
    {
     "name": "stdout",
     "output_type": "stream",
     "text": [
      "Similarity score :  [[1.         0.63676947]\n",
      " [0.63676947 1.        ]]\n"
     ]
    }
   ],
   "source": [
    "# import cosine similarity \n",
    "\n",
    "from sklearn.metrics.pairwise import cosine_similarity\n",
    "\n",
    "#print similarity score\n",
    "\n",
    "print('Similarity score : ',cosine_similarity(count_matrix))"
   ]
  },
  {
   "cell_type": "code",
   "execution_count": 9,
   "id": "a1554c26",
   "metadata": {},
   "outputs": [
    {
     "name": "stdout",
     "output_type": "stream",
     "text": [
      "Your Resume 63.68 % match to the job description !\n"
     ]
    }
   ],
   "source": [
    "# get the percentage\n",
    "matchpercentage = cosine_similarity(count_matrix)[0][1]\n",
    "matchpercentage = round(matchpercentage*100,2)\n",
    "print('Your Resume {} % match to the job description !'.format(matchpercentage))"
   ]
  },
  {
   "cell_type": "code",
   "execution_count": 10,
   "id": "dc3c2698",
   "metadata": {},
   "outputs": [],
   "source": [
    "from sklearn.feature_extraction.text import CountVectorizer\n",
    "from sklearn.metrics.pairwise import cosine_similarity\n",
    "from sklearn import __version__ as sklearn_version"
   ]
  },
  {
   "cell_type": "code",
   "execution_count": 11,
   "id": "0a287cf1",
   "metadata": {},
   "outputs": [
    {
     "name": "stdout",
     "output_type": "stream",
     "text": [
      "Requirement already satisfied: joblib in /opt/anaconda3/lib/python3.9/site-packages (1.2.0)\n",
      "Note: you may need to restart the kernel to use updated packages.\n"
     ]
    }
   ],
   "source": [
    "pip install joblib\n"
   ]
  },
  {
   "cell_type": "code",
   "execution_count": 12,
   "id": "2e2171ba",
   "metadata": {},
   "outputs": [],
   "source": [
    "import joblib"
   ]
  },
  {
   "cell_type": "code",
   "execution_count": 13,
   "id": "50dc932c",
   "metadata": {},
   "outputs": [
    {
     "name": "stdout",
     "output_type": "stream",
     "text": [
      "\n",
      "Similarity score: 63.68%\n",
      "Your Resume is 63.68% match to the job description!\n",
      "Model saved as model.pk1\n"
     ]
    }
   ],
   "source": [
    "print('\\nSimilarity score: {}%'.format(matchpercentage))\n",
    "\n",
    "print('Your Resume is {}% match to the job description!'.format(matchpercentage))\n",
    "\n",
    "# Save the model using joblib (No need to import joblib separately)\n",
    "if sklearn_version >= '0.24.0':\n",
    "    from sklearn import set_config\n",
    "    set_config(working_memory=False)\n",
    "    \n",
    "    # Save the model\n",
    "    cv_filename = 'model.pk1'\n",
    "    joblib.dump(cv, cv_filename)\n",
    "    print(f'Model saved as {cv_filename}')\n",
    "else:\n",
    "    print('Please upgrade scikit-learn to version 0.24.0 or newer to use joblib.')\n"
   ]
  },
  {
   "cell_type": "code",
   "execution_count": null,
   "id": "f3b4aa7c",
   "metadata": {},
   "outputs": [],
   "source": []
  },
  {
   "cell_type": "code",
   "execution_count": null,
   "id": "eaa79a8e",
   "metadata": {},
   "outputs": [],
   "source": []
  },
  {
   "cell_type": "code",
   "execution_count": null,
   "id": "86756a7b",
   "metadata": {},
   "outputs": [],
   "source": []
  },
  {
   "cell_type": "code",
   "execution_count": null,
   "id": "076b19b0",
   "metadata": {},
   "outputs": [],
   "source": []
  },
  {
   "cell_type": "code",
   "execution_count": null,
   "id": "74003cf8",
   "metadata": {},
   "outputs": [],
   "source": []
  },
  {
   "cell_type": "code",
   "execution_count": null,
   "id": "c8dcc4ce",
   "metadata": {},
   "outputs": [],
   "source": []
  },
  {
   "cell_type": "code",
   "execution_count": null,
   "id": "c4e23e64",
   "metadata": {},
   "outputs": [],
   "source": []
  },
  {
   "cell_type": "code",
   "execution_count": null,
   "id": "e350be92",
   "metadata": {},
   "outputs": [],
   "source": []
  }
 ],
 "metadata": {
  "kernelspec": {
   "display_name": "Python 3 (ipykernel)",
   "language": "python",
   "name": "python3"
  },
  "language_info": {
   "codemirror_mode": {
    "name": "ipython",
    "version": 3
   },
   "file_extension": ".py",
   "mimetype": "text/x-python",
   "name": "python",
   "nbconvert_exporter": "python",
   "pygments_lexer": "ipython3",
   "version": "3.9.13"
  }
 },
 "nbformat": 4,
 "nbformat_minor": 5
}
